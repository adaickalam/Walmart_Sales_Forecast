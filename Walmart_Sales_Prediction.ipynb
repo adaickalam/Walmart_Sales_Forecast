{
 "cells": [
  {
   "cell_type": "code",
   "execution_count": 195,
   "metadata": {},
   "outputs": [],
   "source": [
    "import pandas as pd\n",
    "import numpy as np\n",
    "import matplotlib.pyplot as plt\n",
    "%matplotlib inline\n",
    "import seaborn as sns\n",
    "\n",
    "pd.pandas.set_option('display.max_columns', None)"
   ]
  },
  {
   "cell_type": "code",
   "execution_count": 196,
   "metadata": {},
   "outputs": [],
   "source": [
    "train_df = pd.read_csv(\"Data_Files/train.csv\")\n",
    "stores = pd.read_csv(\"Data_Files/stores.csv\")\n",
    "features = pd.read_csv(\"Data_Files/features.csv\")\n",
    "\n",
    "test_df = pd.read_csv(\"Data_Files/test.csv\")"
   ]
  },
  {
   "cell_type": "code",
   "execution_count": 197,
   "metadata": {},
   "outputs": [
    {
     "name": "stdout",
     "output_type": "stream",
     "text": [
      "<class 'pandas.core.frame.DataFrame'>\n",
      "RangeIndex: 421570 entries, 0 to 421569\n",
      "Data columns (total 5 columns):\n",
      " #   Column        Non-Null Count   Dtype  \n",
      "---  ------        --------------   -----  \n",
      " 0   Store         421570 non-null  int64  \n",
      " 1   Dept          421570 non-null  int64  \n",
      " 2   Date          421570 non-null  object \n",
      " 3   Weekly_Sales  421570 non-null  float64\n",
      " 4   IsHoliday     421570 non-null  bool   \n",
      "dtypes: bool(1), float64(1), int64(2), object(1)\n",
      "memory usage: 13.3+ MB\n",
      "None\n",
      "*******************************\n",
      "<class 'pandas.core.frame.DataFrame'>\n",
      "RangeIndex: 115064 entries, 0 to 115063\n",
      "Data columns (total 4 columns):\n",
      " #   Column     Non-Null Count   Dtype \n",
      "---  ------     --------------   ----- \n",
      " 0   Store      115064 non-null  int64 \n",
      " 1   Dept       115064 non-null  int64 \n",
      " 2   Date       115064 non-null  object\n",
      " 3   IsHoliday  115064 non-null  bool  \n",
      "dtypes: bool(1), int64(2), object(1)\n",
      "memory usage: 2.7+ MB\n",
      "None\n",
      "*******************************\n",
      "<class 'pandas.core.frame.DataFrame'>\n",
      "RangeIndex: 45 entries, 0 to 44\n",
      "Data columns (total 3 columns):\n",
      " #   Column  Non-Null Count  Dtype \n",
      "---  ------  --------------  ----- \n",
      " 0   Store   45 non-null     int64 \n",
      " 1   Type    45 non-null     object\n",
      " 2   Size    45 non-null     int64 \n",
      "dtypes: int64(2), object(1)\n",
      "memory usage: 1.2+ KB\n",
      "None\n",
      "*******************************\n",
      "<class 'pandas.core.frame.DataFrame'>\n",
      "RangeIndex: 8190 entries, 0 to 8189\n",
      "Data columns (total 12 columns):\n",
      " #   Column        Non-Null Count  Dtype  \n",
      "---  ------        --------------  -----  \n",
      " 0   Store         8190 non-null   int64  \n",
      " 1   Date          8190 non-null   object \n",
      " 2   Temperature   8190 non-null   float64\n",
      " 3   Fuel_Price    8190 non-null   float64\n",
      " 4   MarkDown1     4032 non-null   float64\n",
      " 5   MarkDown2     2921 non-null   float64\n",
      " 6   MarkDown3     3613 non-null   float64\n",
      " 7   MarkDown4     3464 non-null   float64\n",
      " 8   MarkDown5     4050 non-null   float64\n",
      " 9   CPI           7605 non-null   float64\n",
      " 10  Unemployment  7605 non-null   float64\n",
      " 11  IsHoliday     8190 non-null   bool   \n",
      "dtypes: bool(1), float64(9), int64(1), object(1)\n",
      "memory usage: 712.0+ KB\n",
      "None\n"
     ]
    }
   ],
   "source": [
    "print(train_df.info())\n",
    "print('*******************************')\n",
    "print(test_df.info())\n",
    "print('*******************************')\n",
    "print(stores.info())\n",
    "print('*******************************')\n",
    "print(features.info())"
   ]
  },
  {
   "cell_type": "code",
   "execution_count": 198,
   "metadata": {},
   "outputs": [
    {
     "name": "stdout",
     "output_type": "stream",
     "text": [
      "   Store  Dept        Date  Weekly_Sales  IsHoliday\n",
      "0      1     1  2010-02-05      24924.50      False\n",
      "1      1     1  2010-02-12      46039.49       True\n",
      "2      1     1  2010-02-19      41595.55      False\n",
      "3      1     1  2010-02-26      19403.54      False\n",
      "4      1     1  2010-03-05      21827.90      False\n",
      "*******************************\n",
      "   Store Type    Size\n",
      "0      1    A  151315\n",
      "1      2    A  202307\n",
      "2      3    B   37392\n",
      "3      4    A  205863\n",
      "4      5    B   34875\n",
      "*******************************\n",
      "   Store        Date  Temperature  Fuel_Price  MarkDown1  MarkDown2  \\\n",
      "0      1  2010-02-05        42.31       2.572        NaN        NaN   \n",
      "1      1  2010-02-12        38.51       2.548        NaN        NaN   \n",
      "2      1  2010-02-19        39.93       2.514        NaN        NaN   \n",
      "3      1  2010-02-26        46.63       2.561        NaN        NaN   \n",
      "4      1  2010-03-05        46.50       2.625        NaN        NaN   \n",
      "\n",
      "   MarkDown3  MarkDown4  MarkDown5         CPI  Unemployment  IsHoliday  \n",
      "0        NaN        NaN        NaN  211.096358         8.106      False  \n",
      "1        NaN        NaN        NaN  211.242170         8.106       True  \n",
      "2        NaN        NaN        NaN  211.289143         8.106      False  \n",
      "3        NaN        NaN        NaN  211.319643         8.106      False  \n",
      "4        NaN        NaN        NaN  211.350143         8.106      False  \n"
     ]
    }
   ],
   "source": [
    "print(train_df.head())\n",
    "print('*******************************')\n",
    "print(stores.head())\n",
    "print('*******************************')\n",
    "print(features.head())"
   ]
  },
  {
   "cell_type": "code",
   "execution_count": 199,
   "metadata": {},
   "outputs": [
    {
     "name": "stdout",
     "output_type": "stream",
     "text": [
      "(421570, 5)\n",
      "*******************************\n",
      "(115064, 4)\n",
      "*******************************\n",
      "(45, 3)\n",
      "*******************************\n",
      "(8190, 12)\n"
     ]
    }
   ],
   "source": [
    "print(train_df.shape)\n",
    "print('*******************************')\n",
    "print(test_df.shape)\n",
    "print('*******************************')\n",
    "print(stores.shape)\n",
    "print('*******************************')\n",
    "print(features.shape)"
   ]
  },
  {
   "cell_type": "code",
   "execution_count": 200,
   "metadata": {},
   "outputs": [],
   "source": [
    "train = pd.merge(temp, features, how='left')\n",
    "test = pd.merge(temp1, features, how='left')"
   ]
  },
  {
   "cell_type": "code",
   "execution_count": 201,
   "metadata": {},
   "outputs": [
    {
     "data": {
      "text/plain": [
       "(421570, 16)"
      ]
     },
     "execution_count": 201,
     "metadata": {},
     "output_type": "execute_result"
    }
   ],
   "source": [
    "train.shape"
   ]
  },
  {
   "cell_type": "code",
   "execution_count": 202,
   "metadata": {},
   "outputs": [
    {
     "data": {
      "text/plain": [
       "(115064, 15)"
      ]
     },
     "execution_count": 202,
     "metadata": {},
     "output_type": "execute_result"
    }
   ],
   "source": [
    "test.shape"
   ]
  },
  {
   "cell_type": "code",
   "execution_count": 203,
   "metadata": {},
   "outputs": [
    {
     "data": {
      "text/html": [
       "<div>\n",
       "<style scoped>\n",
       "    .dataframe tbody tr th:only-of-type {\n",
       "        vertical-align: middle;\n",
       "    }\n",
       "\n",
       "    .dataframe tbody tr th {\n",
       "        vertical-align: top;\n",
       "    }\n",
       "\n",
       "    .dataframe thead th {\n",
       "        text-align: right;\n",
       "    }\n",
       "</style>\n",
       "<table border=\"1\" class=\"dataframe\">\n",
       "  <thead>\n",
       "    <tr style=\"text-align: right;\">\n",
       "      <th></th>\n",
       "      <th>Store</th>\n",
       "      <th>Dept</th>\n",
       "      <th>Date</th>\n",
       "      <th>Weekly_Sales</th>\n",
       "      <th>IsHoliday</th>\n",
       "      <th>Type</th>\n",
       "      <th>Size</th>\n",
       "      <th>Temperature</th>\n",
       "      <th>Fuel_Price</th>\n",
       "      <th>MarkDown1</th>\n",
       "      <th>MarkDown2</th>\n",
       "      <th>MarkDown3</th>\n",
       "      <th>MarkDown4</th>\n",
       "      <th>MarkDown5</th>\n",
       "      <th>CPI</th>\n",
       "      <th>Unemployment</th>\n",
       "    </tr>\n",
       "  </thead>\n",
       "  <tbody>\n",
       "    <tr>\n",
       "      <th>0</th>\n",
       "      <td>1</td>\n",
       "      <td>1</td>\n",
       "      <td>2010-02-05</td>\n",
       "      <td>24924.50</td>\n",
       "      <td>False</td>\n",
       "      <td>A</td>\n",
       "      <td>151315</td>\n",
       "      <td>42.31</td>\n",
       "      <td>2.572</td>\n",
       "      <td>NaN</td>\n",
       "      <td>NaN</td>\n",
       "      <td>NaN</td>\n",
       "      <td>NaN</td>\n",
       "      <td>NaN</td>\n",
       "      <td>211.096358</td>\n",
       "      <td>8.106</td>\n",
       "    </tr>\n",
       "    <tr>\n",
       "      <th>1</th>\n",
       "      <td>1</td>\n",
       "      <td>1</td>\n",
       "      <td>2010-02-12</td>\n",
       "      <td>46039.49</td>\n",
       "      <td>True</td>\n",
       "      <td>A</td>\n",
       "      <td>151315</td>\n",
       "      <td>38.51</td>\n",
       "      <td>2.548</td>\n",
       "      <td>NaN</td>\n",
       "      <td>NaN</td>\n",
       "      <td>NaN</td>\n",
       "      <td>NaN</td>\n",
       "      <td>NaN</td>\n",
       "      <td>211.242170</td>\n",
       "      <td>8.106</td>\n",
       "    </tr>\n",
       "    <tr>\n",
       "      <th>2</th>\n",
       "      <td>1</td>\n",
       "      <td>1</td>\n",
       "      <td>2010-02-19</td>\n",
       "      <td>41595.55</td>\n",
       "      <td>False</td>\n",
       "      <td>A</td>\n",
       "      <td>151315</td>\n",
       "      <td>39.93</td>\n",
       "      <td>2.514</td>\n",
       "      <td>NaN</td>\n",
       "      <td>NaN</td>\n",
       "      <td>NaN</td>\n",
       "      <td>NaN</td>\n",
       "      <td>NaN</td>\n",
       "      <td>211.289143</td>\n",
       "      <td>8.106</td>\n",
       "    </tr>\n",
       "    <tr>\n",
       "      <th>3</th>\n",
       "      <td>1</td>\n",
       "      <td>1</td>\n",
       "      <td>2010-02-26</td>\n",
       "      <td>19403.54</td>\n",
       "      <td>False</td>\n",
       "      <td>A</td>\n",
       "      <td>151315</td>\n",
       "      <td>46.63</td>\n",
       "      <td>2.561</td>\n",
       "      <td>NaN</td>\n",
       "      <td>NaN</td>\n",
       "      <td>NaN</td>\n",
       "      <td>NaN</td>\n",
       "      <td>NaN</td>\n",
       "      <td>211.319643</td>\n",
       "      <td>8.106</td>\n",
       "    </tr>\n",
       "    <tr>\n",
       "      <th>4</th>\n",
       "      <td>1</td>\n",
       "      <td>1</td>\n",
       "      <td>2010-03-05</td>\n",
       "      <td>21827.90</td>\n",
       "      <td>False</td>\n",
       "      <td>A</td>\n",
       "      <td>151315</td>\n",
       "      <td>46.50</td>\n",
       "      <td>2.625</td>\n",
       "      <td>NaN</td>\n",
       "      <td>NaN</td>\n",
       "      <td>NaN</td>\n",
       "      <td>NaN</td>\n",
       "      <td>NaN</td>\n",
       "      <td>211.350143</td>\n",
       "      <td>8.106</td>\n",
       "    </tr>\n",
       "  </tbody>\n",
       "</table>\n",
       "</div>"
      ],
      "text/plain": [
       "   Store  Dept        Date  Weekly_Sales  IsHoliday Type    Size  Temperature  \\\n",
       "0      1     1  2010-02-05      24924.50      False    A  151315        42.31   \n",
       "1      1     1  2010-02-12      46039.49       True    A  151315        38.51   \n",
       "2      1     1  2010-02-19      41595.55      False    A  151315        39.93   \n",
       "3      1     1  2010-02-26      19403.54      False    A  151315        46.63   \n",
       "4      1     1  2010-03-05      21827.90      False    A  151315        46.50   \n",
       "\n",
       "   Fuel_Price  MarkDown1  MarkDown2  MarkDown3  MarkDown4  MarkDown5  \\\n",
       "0       2.572        NaN        NaN        NaN        NaN        NaN   \n",
       "1       2.548        NaN        NaN        NaN        NaN        NaN   \n",
       "2       2.514        NaN        NaN        NaN        NaN        NaN   \n",
       "3       2.561        NaN        NaN        NaN        NaN        NaN   \n",
       "4       2.625        NaN        NaN        NaN        NaN        NaN   \n",
       "\n",
       "          CPI  Unemployment  \n",
       "0  211.096358         8.106  \n",
       "1  211.242170         8.106  \n",
       "2  211.289143         8.106  \n",
       "3  211.319643         8.106  \n",
       "4  211.350143         8.106  "
      ]
     },
     "execution_count": 203,
     "metadata": {},
     "output_type": "execute_result"
    }
   ],
   "source": [
    "train.head()"
   ]
  },
  {
   "cell_type": "code",
   "execution_count": 204,
   "metadata": {},
   "outputs": [
    {
     "name": "stdout",
     "output_type": "stream",
     "text": [
      "<class 'pandas.core.frame.DataFrame'>\n",
      "Int64Index: 421570 entries, 0 to 421569\n",
      "Data columns (total 16 columns):\n",
      " #   Column        Non-Null Count   Dtype  \n",
      "---  ------        --------------   -----  \n",
      " 0   Store         421570 non-null  int64  \n",
      " 1   Dept          421570 non-null  int64  \n",
      " 2   Date          421570 non-null  object \n",
      " 3   Weekly_Sales  421570 non-null  float64\n",
      " 4   IsHoliday     421570 non-null  bool   \n",
      " 5   Type          421570 non-null  object \n",
      " 6   Size          421570 non-null  int64  \n",
      " 7   Temperature   421570 non-null  float64\n",
      " 8   Fuel_Price    421570 non-null  float64\n",
      " 9   MarkDown1     150681 non-null  float64\n",
      " 10  MarkDown2     111248 non-null  float64\n",
      " 11  MarkDown3     137091 non-null  float64\n",
      " 12  MarkDown4     134967 non-null  float64\n",
      " 13  MarkDown5     151432 non-null  float64\n",
      " 14  CPI           421570 non-null  float64\n",
      " 15  Unemployment  421570 non-null  float64\n",
      "dtypes: bool(1), float64(10), int64(3), object(2)\n",
      "memory usage: 51.9+ MB\n"
     ]
    }
   ],
   "source": [
    "train.info()"
   ]
  },
  {
   "cell_type": "code",
   "execution_count": 205,
   "metadata": {},
   "outputs": [
    {
     "data": {
      "text/html": [
       "<div>\n",
       "<style scoped>\n",
       "    .dataframe tbody tr th:only-of-type {\n",
       "        vertical-align: middle;\n",
       "    }\n",
       "\n",
       "    .dataframe tbody tr th {\n",
       "        vertical-align: top;\n",
       "    }\n",
       "\n",
       "    .dataframe thead th {\n",
       "        text-align: right;\n",
       "    }\n",
       "</style>\n",
       "<table border=\"1\" class=\"dataframe\">\n",
       "  <thead>\n",
       "    <tr style=\"text-align: right;\">\n",
       "      <th></th>\n",
       "      <th>Store</th>\n",
       "      <th>Dept</th>\n",
       "      <th>Date</th>\n",
       "      <th>IsHoliday</th>\n",
       "      <th>Type</th>\n",
       "      <th>Size</th>\n",
       "      <th>Temperature</th>\n",
       "      <th>Fuel_Price</th>\n",
       "      <th>MarkDown1</th>\n",
       "      <th>MarkDown2</th>\n",
       "      <th>MarkDown3</th>\n",
       "      <th>MarkDown4</th>\n",
       "      <th>MarkDown5</th>\n",
       "      <th>CPI</th>\n",
       "      <th>Unemployment</th>\n",
       "    </tr>\n",
       "  </thead>\n",
       "  <tbody>\n",
       "    <tr>\n",
       "      <th>0</th>\n",
       "      <td>1</td>\n",
       "      <td>1</td>\n",
       "      <td>2012-11-02</td>\n",
       "      <td>False</td>\n",
       "      <td>A</td>\n",
       "      <td>151315</td>\n",
       "      <td>55.32</td>\n",
       "      <td>3.386</td>\n",
       "      <td>6766.44</td>\n",
       "      <td>5147.70</td>\n",
       "      <td>50.82</td>\n",
       "      <td>3639.90</td>\n",
       "      <td>2737.42</td>\n",
       "      <td>223.462779</td>\n",
       "      <td>6.573</td>\n",
       "    </tr>\n",
       "    <tr>\n",
       "      <th>1</th>\n",
       "      <td>1</td>\n",
       "      <td>1</td>\n",
       "      <td>2012-11-09</td>\n",
       "      <td>False</td>\n",
       "      <td>A</td>\n",
       "      <td>151315</td>\n",
       "      <td>61.24</td>\n",
       "      <td>3.314</td>\n",
       "      <td>11421.32</td>\n",
       "      <td>3370.89</td>\n",
       "      <td>40.28</td>\n",
       "      <td>4646.79</td>\n",
       "      <td>6154.16</td>\n",
       "      <td>223.481307</td>\n",
       "      <td>6.573</td>\n",
       "    </tr>\n",
       "    <tr>\n",
       "      <th>2</th>\n",
       "      <td>1</td>\n",
       "      <td>1</td>\n",
       "      <td>2012-11-16</td>\n",
       "      <td>False</td>\n",
       "      <td>A</td>\n",
       "      <td>151315</td>\n",
       "      <td>52.92</td>\n",
       "      <td>3.252</td>\n",
       "      <td>9696.28</td>\n",
       "      <td>292.10</td>\n",
       "      <td>103.78</td>\n",
       "      <td>1133.15</td>\n",
       "      <td>6612.69</td>\n",
       "      <td>223.512911</td>\n",
       "      <td>6.573</td>\n",
       "    </tr>\n",
       "    <tr>\n",
       "      <th>3</th>\n",
       "      <td>1</td>\n",
       "      <td>1</td>\n",
       "      <td>2012-11-23</td>\n",
       "      <td>True</td>\n",
       "      <td>A</td>\n",
       "      <td>151315</td>\n",
       "      <td>56.23</td>\n",
       "      <td>3.211</td>\n",
       "      <td>883.59</td>\n",
       "      <td>4.17</td>\n",
       "      <td>74910.32</td>\n",
       "      <td>209.91</td>\n",
       "      <td>303.32</td>\n",
       "      <td>223.561947</td>\n",
       "      <td>6.573</td>\n",
       "    </tr>\n",
       "    <tr>\n",
       "      <th>4</th>\n",
       "      <td>1</td>\n",
       "      <td>1</td>\n",
       "      <td>2012-11-30</td>\n",
       "      <td>False</td>\n",
       "      <td>A</td>\n",
       "      <td>151315</td>\n",
       "      <td>52.34</td>\n",
       "      <td>3.207</td>\n",
       "      <td>2460.03</td>\n",
       "      <td>NaN</td>\n",
       "      <td>3838.35</td>\n",
       "      <td>150.57</td>\n",
       "      <td>6966.34</td>\n",
       "      <td>223.610984</td>\n",
       "      <td>6.573</td>\n",
       "    </tr>\n",
       "  </tbody>\n",
       "</table>\n",
       "</div>"
      ],
      "text/plain": [
       "   Store  Dept        Date  IsHoliday Type    Size  Temperature  Fuel_Price  \\\n",
       "0      1     1  2012-11-02      False    A  151315        55.32       3.386   \n",
       "1      1     1  2012-11-09      False    A  151315        61.24       3.314   \n",
       "2      1     1  2012-11-16      False    A  151315        52.92       3.252   \n",
       "3      1     1  2012-11-23       True    A  151315        56.23       3.211   \n",
       "4      1     1  2012-11-30      False    A  151315        52.34       3.207   \n",
       "\n",
       "   MarkDown1  MarkDown2  MarkDown3  MarkDown4  MarkDown5         CPI  \\\n",
       "0    6766.44    5147.70      50.82    3639.90    2737.42  223.462779   \n",
       "1   11421.32    3370.89      40.28    4646.79    6154.16  223.481307   \n",
       "2    9696.28     292.10     103.78    1133.15    6612.69  223.512911   \n",
       "3     883.59       4.17   74910.32     209.91     303.32  223.561947   \n",
       "4    2460.03        NaN    3838.35     150.57    6966.34  223.610984   \n",
       "\n",
       "   Unemployment  \n",
       "0         6.573  \n",
       "1         6.573  \n",
       "2         6.573  \n",
       "3         6.573  \n",
       "4         6.573  "
      ]
     },
     "execution_count": 205,
     "metadata": {},
     "output_type": "execute_result"
    }
   ],
   "source": [
    "test.head()"
   ]
  },
  {
   "cell_type": "code",
   "execution_count": 206,
   "metadata": {},
   "outputs": [
    {
     "name": "stdout",
     "output_type": "stream",
     "text": [
      "<class 'pandas.core.frame.DataFrame'>\n",
      "Int64Index: 115064 entries, 0 to 115063\n",
      "Data columns (total 15 columns):\n",
      " #   Column        Non-Null Count   Dtype  \n",
      "---  ------        --------------   -----  \n",
      " 0   Store         115064 non-null  int64  \n",
      " 1   Dept          115064 non-null  int64  \n",
      " 2   Date          115064 non-null  object \n",
      " 3   IsHoliday     115064 non-null  bool   \n",
      " 4   Type          115064 non-null  object \n",
      " 5   Size          115064 non-null  int64  \n",
      " 6   Temperature   115064 non-null  float64\n",
      " 7   Fuel_Price    115064 non-null  float64\n",
      " 8   MarkDown1     114915 non-null  float64\n",
      " 9   MarkDown2     86437 non-null   float64\n",
      " 10  MarkDown3     105235 non-null  float64\n",
      " 11  MarkDown4     102176 non-null  float64\n",
      " 12  MarkDown5     115064 non-null  float64\n",
      " 13  CPI           76902 non-null   float64\n",
      " 14  Unemployment  76902 non-null   float64\n",
      "dtypes: bool(1), float64(9), int64(3), object(2)\n",
      "memory usage: 13.3+ MB\n"
     ]
    }
   ],
   "source": [
    "test.info()"
   ]
  },
  {
   "cell_type": "code",
   "execution_count": 207,
   "metadata": {},
   "outputs": [
    {
     "name": "stdout",
     "output_type": "stream",
     "text": [
      "(421570, 16)\n",
      "*******************************\n",
      "(115064, 15)\n",
      "*******************************\n"
     ]
    }
   ],
   "source": [
    "print(train.shape)\n",
    "print('*******************************')\n",
    "print(test.shape)\n",
    "print('*******************************')"
   ]
  },
  {
   "cell_type": "code",
   "execution_count": 208,
   "metadata": {},
   "outputs": [
    {
     "data": {
      "text/plain": [
       "Index(['Store', 'Dept', 'Date', 'Weekly_Sales', 'IsHoliday', 'Type', 'Size',\n",
       "       'Temperature', 'Fuel_Price', 'MarkDown1', 'MarkDown2', 'MarkDown3',\n",
       "       'MarkDown4', 'MarkDown5', 'CPI', 'Unemployment'],\n",
       "      dtype='object')"
      ]
     },
     "execution_count": 208,
     "metadata": {},
     "output_type": "execute_result"
    }
   ],
   "source": [
    "train.columns"
   ]
  },
  {
   "cell_type": "code",
   "execution_count": 209,
   "metadata": {},
   "outputs": [
    {
     "data": {
      "text/plain": [
       "Index(['Store', 'Dept', 'Date', 'IsHoliday', 'Type', 'Size', 'Temperature',\n",
       "       'Fuel_Price', 'MarkDown1', 'MarkDown2', 'MarkDown3', 'MarkDown4',\n",
       "       'MarkDown5', 'CPI', 'Unemployment'],\n",
       "      dtype='object')"
      ]
     },
     "execution_count": 209,
     "metadata": {},
     "output_type": "execute_result"
    }
   ],
   "source": [
    "test.columns"
   ]
  },
  {
   "cell_type": "code",
   "execution_count": 210,
   "metadata": {},
   "outputs": [],
   "source": [
    "train_weekly_sales= train[['Weekly_Sales']]"
   ]
  },
  {
   "cell_type": "code",
   "execution_count": 211,
   "metadata": {},
   "outputs": [
    {
     "data": {
      "text/plain": [
       "(421570, 1)"
      ]
     },
     "execution_count": 211,
     "metadata": {},
     "output_type": "execute_result"
    }
   ],
   "source": [
    "train_weekly_sales.shape"
   ]
  },
  {
   "cell_type": "code",
   "execution_count": 212,
   "metadata": {},
   "outputs": [],
   "source": [
    "train_copy=train.copy(deep=True)"
   ]
  },
  {
   "cell_type": "code",
   "execution_count": 213,
   "metadata": {},
   "outputs": [
    {
     "data": {
      "text/plain": [
       "(421570, 16)"
      ]
     },
     "execution_count": 213,
     "metadata": {},
     "output_type": "execute_result"
    }
   ],
   "source": [
    "train_copy.shape"
   ]
  },
  {
   "cell_type": "code",
   "execution_count": 214,
   "metadata": {},
   "outputs": [],
   "source": [
    "train.drop(['Weekly_Sales'], axis = 1, inplace=True) "
   ]
  },
  {
   "cell_type": "code",
   "execution_count": 215,
   "metadata": {},
   "outputs": [
    {
     "data": {
      "text/plain": [
       "(421570, 15)"
      ]
     },
     "execution_count": 215,
     "metadata": {},
     "output_type": "execute_result"
    }
   ],
   "source": [
    "train.shape"
   ]
  },
  {
   "cell_type": "code",
   "execution_count": 216,
   "metadata": {},
   "outputs": [
    {
     "data": {
      "text/plain": [
       "(115064, 15)"
      ]
     },
     "execution_count": 216,
     "metadata": {},
     "output_type": "execute_result"
    }
   ],
   "source": [
    "test.shape"
   ]
  },
  {
   "cell_type": "code",
   "execution_count": 217,
   "metadata": {},
   "outputs": [],
   "source": [
    "combined = pd.concat([train, test], axis=0)"
   ]
  },
  {
   "cell_type": "code",
   "execution_count": 218,
   "metadata": {},
   "outputs": [
    {
     "data": {
      "text/plain": [
       "(536634, 15)"
      ]
     },
     "execution_count": 218,
     "metadata": {},
     "output_type": "execute_result"
    }
   ],
   "source": [
    "combined.shape"
   ]
  },
  {
   "cell_type": "code",
   "execution_count": 219,
   "metadata": {},
   "outputs": [
    {
     "name": "stdout",
     "output_type": "stream",
     "text": [
      "<class 'pandas.core.frame.DataFrame'>\n",
      "Int64Index: 536634 entries, 0 to 115063\n",
      "Data columns (total 15 columns):\n",
      " #   Column        Non-Null Count   Dtype  \n",
      "---  ------        --------------   -----  \n",
      " 0   Store         536634 non-null  int64  \n",
      " 1   Dept          536634 non-null  int64  \n",
      " 2   Date          536634 non-null  object \n",
      " 3   IsHoliday     536634 non-null  bool   \n",
      " 4   Type          536634 non-null  object \n",
      " 5   Size          536634 non-null  int64  \n",
      " 6   Temperature   536634 non-null  float64\n",
      " 7   Fuel_Price    536634 non-null  float64\n",
      " 8   MarkDown1     265596 non-null  float64\n",
      " 9   MarkDown2     197685 non-null  float64\n",
      " 10  MarkDown3     242326 non-null  float64\n",
      " 11  MarkDown4     237143 non-null  float64\n",
      " 12  MarkDown5     266496 non-null  float64\n",
      " 13  CPI           498472 non-null  float64\n",
      " 14  Unemployment  498472 non-null  float64\n",
      "dtypes: bool(1), float64(9), int64(3), object(2)\n",
      "memory usage: 61.9+ MB\n"
     ]
    }
   ],
   "source": [
    "combined.info()"
   ]
  },
  {
   "cell_type": "code",
   "execution_count": 220,
   "metadata": {},
   "outputs": [],
   "source": [
    "combined['Date']=pd.to_datetime(combined['Date'])"
   ]
  },
  {
   "cell_type": "code",
   "execution_count": 221,
   "metadata": {},
   "outputs": [
    {
     "name": "stdout",
     "output_type": "stream",
     "text": [
      "<class 'pandas.core.frame.DataFrame'>\n",
      "Int64Index: 536634 entries, 0 to 115063\n",
      "Data columns (total 15 columns):\n",
      " #   Column        Non-Null Count   Dtype         \n",
      "---  ------        --------------   -----         \n",
      " 0   Store         536634 non-null  int64         \n",
      " 1   Dept          536634 non-null  int64         \n",
      " 2   Date          536634 non-null  datetime64[ns]\n",
      " 3   IsHoliday     536634 non-null  bool          \n",
      " 4   Type          536634 non-null  object        \n",
      " 5   Size          536634 non-null  int64         \n",
      " 6   Temperature   536634 non-null  float64       \n",
      " 7   Fuel_Price    536634 non-null  float64       \n",
      " 8   MarkDown1     265596 non-null  float64       \n",
      " 9   MarkDown2     197685 non-null  float64       \n",
      " 10  MarkDown3     242326 non-null  float64       \n",
      " 11  MarkDown4     237143 non-null  float64       \n",
      " 12  MarkDown5     266496 non-null  float64       \n",
      " 13  CPI           498472 non-null  float64       \n",
      " 14  Unemployment  498472 non-null  float64       \n",
      "dtypes: bool(1), datetime64[ns](1), float64(9), int64(3), object(1)\n",
      "memory usage: 61.9+ MB\n"
     ]
    }
   ],
   "source": [
    "combined.info()"
   ]
  },
  {
   "cell_type": "code",
   "execution_count": 222,
   "metadata": {},
   "outputs": [],
   "source": [
    "combined_copy=combined.copy(deep=True)"
   ]
  },
  {
   "cell_type": "code",
   "execution_count": 225,
   "metadata": {},
   "outputs": [],
   "source": [
    "combined['CPI']=combined.groupby(['Store', 'Dept'])['CPI'].transform(lambda x: x.fillna(x.mean()))\n",
    "combined['Unemployment']=combined.groupby(['Store', 'Dept'])['Unemployment'].transform(lambda x: x.fillna(x.mean()))"
   ]
  },
  {
   "cell_type": "code",
   "execution_count": 226,
   "metadata": {},
   "outputs": [
    {
     "name": "stdout",
     "output_type": "stream",
     "text": [
      "<class 'pandas.core.frame.DataFrame'>\n",
      "Int64Index: 536634 entries, 0 to 115063\n",
      "Data columns (total 15 columns):\n",
      " #   Column        Non-Null Count   Dtype         \n",
      "---  ------        --------------   -----         \n",
      " 0   Store         536634 non-null  int64         \n",
      " 1   Dept          536634 non-null  int64         \n",
      " 2   Date          536634 non-null  datetime64[ns]\n",
      " 3   IsHoliday     536634 non-null  bool          \n",
      " 4   Type          536634 non-null  object        \n",
      " 5   Size          536634 non-null  int64         \n",
      " 6   Temperature   536634 non-null  float64       \n",
      " 7   Fuel_Price    536634 non-null  float64       \n",
      " 8   MarkDown1     265596 non-null  float64       \n",
      " 9   MarkDown2     197685 non-null  float64       \n",
      " 10  MarkDown3     242326 non-null  float64       \n",
      " 11  MarkDown4     237143 non-null  float64       \n",
      " 12  MarkDown5     266496 non-null  float64       \n",
      " 13  CPI           536633 non-null  float64       \n",
      " 14  Unemployment  536633 non-null  float64       \n",
      "dtypes: bool(1), datetime64[ns](1), float64(9), int64(3), object(1)\n",
      "memory usage: 61.9+ MB\n"
     ]
    }
   ],
   "source": [
    "combined.info()"
   ]
  },
  {
   "cell_type": "code",
   "execution_count": 227,
   "metadata": {},
   "outputs": [],
   "source": [
    "combined=combined.fillna(0)"
   ]
  },
  {
   "cell_type": "code",
   "execution_count": 228,
   "metadata": {},
   "outputs": [],
   "source": [
    "traindata = combined.iloc[:421570,:] "
   ]
  },
  {
   "cell_type": "code",
   "execution_count": 229,
   "metadata": {},
   "outputs": [
    {
     "data": {
      "text/plain": [
       "(421570, 15)"
      ]
     },
     "execution_count": 229,
     "metadata": {},
     "output_type": "execute_result"
    }
   ],
   "source": [
    "traindata.shape"
   ]
  },
  {
   "cell_type": "code",
   "execution_count": 230,
   "metadata": {},
   "outputs": [],
   "source": [
    "testdata = combined.iloc[421570:,:] "
   ]
  },
  {
   "cell_type": "code",
   "execution_count": 231,
   "metadata": {},
   "outputs": [
    {
     "data": {
      "text/plain": [
       "(115064, 15)"
      ]
     },
     "execution_count": 231,
     "metadata": {},
     "output_type": "execute_result"
    }
   ],
   "source": [
    "testdata.shape"
   ]
  },
  {
   "cell_type": "code",
   "execution_count": 232,
   "metadata": {},
   "outputs": [
    {
     "name": "stderr",
     "output_type": "stream",
     "text": [
      "<ipython-input-232-1bd686fde8ed>:1: SettingWithCopyWarning: \n",
      "A value is trying to be set on a copy of a slice from a DataFrame.\n",
      "Try using .loc[row_indexer,col_indexer] = value instead\n",
      "\n",
      "See the caveats in the documentation: https://pandas.pydata.org/pandas-docs/stable/user_guide/indexing.html#returning-a-view-versus-a-copy\n",
      "  traindata['Weekly_Sales'] = train_weekly_sales\n"
     ]
    }
   ],
   "source": [
    "traindata['Weekly_Sales'] = train_weekly_sales"
   ]
  },
  {
   "cell_type": "code",
   "execution_count": 233,
   "metadata": {},
   "outputs": [
    {
     "name": "stdout",
     "output_type": "stream",
     "text": [
      "<class 'pandas.core.frame.DataFrame'>\n",
      "Int64Index: 421570 entries, 0 to 421569\n",
      "Data columns (total 16 columns):\n",
      " #   Column        Non-Null Count   Dtype         \n",
      "---  ------        --------------   -----         \n",
      " 0   Store         421570 non-null  int64         \n",
      " 1   Dept          421570 non-null  int64         \n",
      " 2   Date          421570 non-null  datetime64[ns]\n",
      " 3   IsHoliday     421570 non-null  bool          \n",
      " 4   Type          421570 non-null  object        \n",
      " 5   Size          421570 non-null  int64         \n",
      " 6   Temperature   421570 non-null  float64       \n",
      " 7   Fuel_Price    421570 non-null  float64       \n",
      " 8   MarkDown1     421570 non-null  float64       \n",
      " 9   MarkDown2     421570 non-null  float64       \n",
      " 10  MarkDown3     421570 non-null  float64       \n",
      " 11  MarkDown4     421570 non-null  float64       \n",
      " 12  MarkDown5     421570 non-null  float64       \n",
      " 13  CPI           421570 non-null  float64       \n",
      " 14  Unemployment  421570 non-null  float64       \n",
      " 15  Weekly_Sales  421570 non-null  float64       \n",
      "dtypes: bool(1), datetime64[ns](1), float64(10), int64(3), object(1)\n",
      "memory usage: 51.9+ MB\n"
     ]
    }
   ],
   "source": [
    "traindata.info()"
   ]
  },
  {
   "cell_type": "code",
   "execution_count": 236,
   "metadata": {},
   "outputs": [],
   "source": [
    "from datetime import datetime"
   ]
  },
  {
   "cell_type": "code",
   "execution_count": 237,
   "metadata": {},
   "outputs": [
    {
     "name": "stderr",
     "output_type": "stream",
     "text": [
      "<ipython-input-237-7e988cfa1d0d>:2: SettingWithCopyWarning: \n",
      "A value is trying to be set on a copy of a slice from a DataFrame.\n",
      "Try using .loc[row_indexer,col_indexer] = value instead\n",
      "\n",
      "See the caveats in the documentation: https://pandas.pydata.org/pandas-docs/stable/user_guide/indexing.html#returning-a-view-versus-a-copy\n",
      "  traindata['Date_dayofweek'] =traindata['Date'].dt.dayofweek\n",
      "<ipython-input-237-7e988cfa1d0d>:3: SettingWithCopyWarning: \n",
      "A value is trying to be set on a copy of a slice from a DataFrame.\n",
      "Try using .loc[row_indexer,col_indexer] = value instead\n",
      "\n",
      "See the caveats in the documentation: https://pandas.pydata.org/pandas-docs/stable/user_guide/indexing.html#returning-a-view-versus-a-copy\n",
      "  traindata['Date_month'] =traindata['Date'].dt.month\n",
      "<ipython-input-237-7e988cfa1d0d>:4: SettingWithCopyWarning: \n",
      "A value is trying to be set on a copy of a slice from a DataFrame.\n",
      "Try using .loc[row_indexer,col_indexer] = value instead\n",
      "\n",
      "See the caveats in the documentation: https://pandas.pydata.org/pandas-docs/stable/user_guide/indexing.html#returning-a-view-versus-a-copy\n",
      "  traindata['Date_year'] =traindata['Date'].dt.year\n",
      "<ipython-input-237-7e988cfa1d0d>:5: SettingWithCopyWarning: \n",
      "A value is trying to be set on a copy of a slice from a DataFrame.\n",
      "Try using .loc[row_indexer,col_indexer] = value instead\n",
      "\n",
      "See the caveats in the documentation: https://pandas.pydata.org/pandas-docs/stable/user_guide/indexing.html#returning-a-view-versus-a-copy\n",
      "  traindata['Date_day'] =traindata['Date'].dt.day\n",
      "<ipython-input-237-7e988cfa1d0d>:7: SettingWithCopyWarning: \n",
      "A value is trying to be set on a copy of a slice from a DataFrame.\n",
      "Try using .loc[row_indexer,col_indexer] = value instead\n",
      "\n",
      "See the caveats in the documentation: https://pandas.pydata.org/pandas-docs/stable/user_guide/indexing.html#returning-a-view-versus-a-copy\n",
      "  testdata['Date_dayofweek'] =testdata['Date'].dt.dayofweek\n",
      "<ipython-input-237-7e988cfa1d0d>:8: SettingWithCopyWarning: \n",
      "A value is trying to be set on a copy of a slice from a DataFrame.\n",
      "Try using .loc[row_indexer,col_indexer] = value instead\n",
      "\n",
      "See the caveats in the documentation: https://pandas.pydata.org/pandas-docs/stable/user_guide/indexing.html#returning-a-view-versus-a-copy\n",
      "  testdata['Date_month'] =testdata['Date'].dt.month\n",
      "<ipython-input-237-7e988cfa1d0d>:9: SettingWithCopyWarning: \n",
      "A value is trying to be set on a copy of a slice from a DataFrame.\n",
      "Try using .loc[row_indexer,col_indexer] = value instead\n",
      "\n",
      "See the caveats in the documentation: https://pandas.pydata.org/pandas-docs/stable/user_guide/indexing.html#returning-a-view-versus-a-copy\n",
      "  testdata['Date_year'] =testdata['Date'].dt.year\n",
      "<ipython-input-237-7e988cfa1d0d>:10: SettingWithCopyWarning: \n",
      "A value is trying to be set on a copy of a slice from a DataFrame.\n",
      "Try using .loc[row_indexer,col_indexer] = value instead\n",
      "\n",
      "See the caveats in the documentation: https://pandas.pydata.org/pandas-docs/stable/user_guide/indexing.html#returning-a-view-versus-a-copy\n",
      "  testdata['Date_day'] =testdata['Date'].dt.day\n"
     ]
    }
   ],
   "source": [
    "# Extract date features\n",
    "traindata['Date_dayofweek'] =traindata['Date'].dt.dayofweek\n",
    "traindata['Date_month'] =traindata['Date'].dt.month \n",
    "traindata['Date_year'] =traindata['Date'].dt.year\n",
    "traindata['Date_day'] =traindata['Date'].dt.day \n",
    "\n",
    "testdata['Date_dayofweek'] =testdata['Date'].dt.dayofweek\n",
    "testdata['Date_month'] =testdata['Date'].dt.month \n",
    "testdata['Date_year'] =testdata['Date'].dt.year\n",
    "testdata['Date_day'] =testdata['Date'].dt.day "
   ]
  },
  {
   "cell_type": "code",
   "execution_count": 238,
   "metadata": {},
   "outputs": [
    {
     "name": "stderr",
     "output_type": "stream",
     "text": [
      "<ipython-input-238-d84255327223>:2: SettingWithCopyWarning: \n",
      "A value is trying to be set on a copy of a slice from a DataFrame.\n",
      "Try using .loc[row_indexer,col_indexer] = value instead\n",
      "\n",
      "See the caveats in the documentation: https://pandas.pydata.org/pandas-docs/stable/user_guide/indexing.html#returning-a-view-versus-a-copy\n",
      "  traindata['Type'] = traindata['Type'].map(type_mapping)\n",
      "<ipython-input-238-d84255327223>:3: SettingWithCopyWarning: \n",
      "A value is trying to be set on a copy of a slice from a DataFrame.\n",
      "Try using .loc[row_indexer,col_indexer] = value instead\n",
      "\n",
      "See the caveats in the documentation: https://pandas.pydata.org/pandas-docs/stable/user_guide/indexing.html#returning-a-view-versus-a-copy\n",
      "  testdata['Type'] = testdata['Type'].map(type_mapping)\n"
     ]
    }
   ],
   "source": [
    "type_mapping = {\"A\": 1, \"B\": 2, \"C\": 3}\n",
    "traindata['Type'] = traindata['Type'].map(type_mapping)\n",
    "testdata['Type'] = testdata['Type'].map(type_mapping)"
   ]
  },
  {
   "cell_type": "code",
   "execution_count": 239,
   "metadata": {},
   "outputs": [
    {
     "name": "stderr",
     "output_type": "stream",
     "text": [
      "<ipython-input-239-e0d2fa0a3a55>:2: SettingWithCopyWarning: \n",
      "A value is trying to be set on a copy of a slice from a DataFrame.\n",
      "Try using .loc[row_indexer,col_indexer] = value instead\n",
      "\n",
      "See the caveats in the documentation: https://pandas.pydata.org/pandas-docs/stable/user_guide/indexing.html#returning-a-view-versus-a-copy\n",
      "  traindata['IsHoliday'] = traindata['IsHoliday'].map(type_mapping)\n",
      "<ipython-input-239-e0d2fa0a3a55>:3: SettingWithCopyWarning: \n",
      "A value is trying to be set on a copy of a slice from a DataFrame.\n",
      "Try using .loc[row_indexer,col_indexer] = value instead\n",
      "\n",
      "See the caveats in the documentation: https://pandas.pydata.org/pandas-docs/stable/user_guide/indexing.html#returning-a-view-versus-a-copy\n",
      "  testdata['IsHoliday'] = testdata['IsHoliday'].map(type_mapping)\n"
     ]
    }
   ],
   "source": [
    "type_mapping = {False: 0, True: 1}\n",
    "traindata['IsHoliday'] = traindata['IsHoliday'].map(type_mapping)\n",
    "testdata['IsHoliday'] = testdata['IsHoliday'].map(type_mapping)"
   ]
  },
  {
   "cell_type": "code",
   "execution_count": 240,
   "metadata": {},
   "outputs": [
    {
     "name": "stderr",
     "output_type": "stream",
     "text": [
      "<ipython-input-240-63308aa8dc5b>:1: SettingWithCopyWarning: \n",
      "A value is trying to be set on a copy of a slice from a DataFrame.\n",
      "Try using .loc[row_indexer,col_indexer] = value instead\n",
      "\n",
      "See the caveats in the documentation: https://pandas.pydata.org/pandas-docs/stable/user_guide/indexing.html#returning-a-view-versus-a-copy\n",
      "  traindata['Super_Bowl'] = np.where((traindata['Date']==datetime(2010, 2, 12)) | (traindata['Date']==datetime(2011, 2, 11)) | (traindata['Date']==datetime(2012, 2, 10)) | (traindata['Date']==datetime(2013, 2, 8)),1,0)\n",
      "<ipython-input-240-63308aa8dc5b>:2: SettingWithCopyWarning: \n",
      "A value is trying to be set on a copy of a slice from a DataFrame.\n",
      "Try using .loc[row_indexer,col_indexer] = value instead\n",
      "\n",
      "See the caveats in the documentation: https://pandas.pydata.org/pandas-docs/stable/user_guide/indexing.html#returning-a-view-versus-a-copy\n",
      "  traindata['Labour_Day'] = np.where((traindata['Date']==datetime(2010, 9, 10)) | (traindata['Date']==datetime(2011, 9, 9)) | (traindata['Date']==datetime(2012, 9, 7)) | (traindata['Date']==datetime(2013, 9, 6)),1,0)\n",
      "<ipython-input-240-63308aa8dc5b>:3: SettingWithCopyWarning: \n",
      "A value is trying to be set on a copy of a slice from a DataFrame.\n",
      "Try using .loc[row_indexer,col_indexer] = value instead\n",
      "\n",
      "See the caveats in the documentation: https://pandas.pydata.org/pandas-docs/stable/user_guide/indexing.html#returning-a-view-versus-a-copy\n",
      "  traindata['Thanksgiving'] = np.where((traindata['Date']==datetime(2010, 11, 26)) | (traindata['Date']==datetime(2011, 11, 25)) | (traindata['Date']==datetime(2012, 11, 23)) | (traindata['Date']==datetime(2013, 11, 29)),1,0)\n",
      "<ipython-input-240-63308aa8dc5b>:4: SettingWithCopyWarning: \n",
      "A value is trying to be set on a copy of a slice from a DataFrame.\n",
      "Try using .loc[row_indexer,col_indexer] = value instead\n",
      "\n",
      "See the caveats in the documentation: https://pandas.pydata.org/pandas-docs/stable/user_guide/indexing.html#returning-a-view-versus-a-copy\n",
      "  traindata['Christmas'] = np.where((traindata['Date']==datetime(2010, 12, 31)) | (traindata['Date']==datetime(2011, 12, 30)) | (traindata['Date']==datetime(2012, 12, 28)) | (traindata['Date']==datetime(2013, 12, 27)),1,0)\n",
      "<ipython-input-240-63308aa8dc5b>:6: SettingWithCopyWarning: \n",
      "A value is trying to be set on a copy of a slice from a DataFrame.\n",
      "Try using .loc[row_indexer,col_indexer] = value instead\n",
      "\n",
      "See the caveats in the documentation: https://pandas.pydata.org/pandas-docs/stable/user_guide/indexing.html#returning-a-view-versus-a-copy\n",
      "  testdata['Super_Bowl'] = np.where((testdata['Date']==datetime(2010, 2, 12)) | (testdata['Date']==datetime(2011, 2, 11)) | (testdata['Date']==datetime(2012, 2, 10)) | (testdata['Date']==datetime(2013, 2, 8)),1,0)\n",
      "<ipython-input-240-63308aa8dc5b>:7: SettingWithCopyWarning: \n",
      "A value is trying to be set on a copy of a slice from a DataFrame.\n",
      "Try using .loc[row_indexer,col_indexer] = value instead\n",
      "\n",
      "See the caveats in the documentation: https://pandas.pydata.org/pandas-docs/stable/user_guide/indexing.html#returning-a-view-versus-a-copy\n",
      "  testdata['Labour_Day'] = np.where((testdata['Date']==datetime(2010, 9, 10)) | (testdata['Date']==datetime(2011, 9, 9)) | (testdata['Date']==datetime(2012, 9, 7)) | (testdata['Date']==datetime(2013, 9, 6)),1,0)\n",
      "<ipython-input-240-63308aa8dc5b>:8: SettingWithCopyWarning: \n",
      "A value is trying to be set on a copy of a slice from a DataFrame.\n",
      "Try using .loc[row_indexer,col_indexer] = value instead\n",
      "\n",
      "See the caveats in the documentation: https://pandas.pydata.org/pandas-docs/stable/user_guide/indexing.html#returning-a-view-versus-a-copy\n",
      "  testdata['Thanksgiving'] = np.where((testdata['Date']==datetime(2010, 11, 26)) | (testdata['Date']==datetime(2011, 11, 25)) | (testdata['Date']==datetime(2012, 11, 23)) | (testdata['Date']==datetime(2013, 11, 29)),1,0)\n",
      "<ipython-input-240-63308aa8dc5b>:9: SettingWithCopyWarning: \n",
      "A value is trying to be set on a copy of a slice from a DataFrame.\n",
      "Try using .loc[row_indexer,col_indexer] = value instead\n",
      "\n",
      "See the caveats in the documentation: https://pandas.pydata.org/pandas-docs/stable/user_guide/indexing.html#returning-a-view-versus-a-copy\n",
      "  testdata['Christmas'] = np.where((testdata['Date']==datetime(2010, 12, 31)) | (testdata['Date']==datetime(2011, 12, 30)) | (testdata['Date']==datetime(2012, 12, 28)) | (testdata['Date']==datetime(2013, 12, 27)),1,0)\n"
     ]
    }
   ],
   "source": [
    "traindata['Super_Bowl'] = np.where((traindata['Date']==datetime(2010, 2, 12)) | (traindata['Date']==datetime(2011, 2, 11)) | (traindata['Date']==datetime(2012, 2, 10)) | (traindata['Date']==datetime(2013, 2, 8)),1,0)\n",
    "traindata['Labour_Day'] = np.where((traindata['Date']==datetime(2010, 9, 10)) | (traindata['Date']==datetime(2011, 9, 9)) | (traindata['Date']==datetime(2012, 9, 7)) | (traindata['Date']==datetime(2013, 9, 6)),1,0)\n",
    "traindata['Thanksgiving'] = np.where((traindata['Date']==datetime(2010, 11, 26)) | (traindata['Date']==datetime(2011, 11, 25)) | (traindata['Date']==datetime(2012, 11, 23)) | (traindata['Date']==datetime(2013, 11, 29)),1,0)\n",
    "traindata['Christmas'] = np.where((traindata['Date']==datetime(2010, 12, 31)) | (traindata['Date']==datetime(2011, 12, 30)) | (traindata['Date']==datetime(2012, 12, 28)) | (traindata['Date']==datetime(2013, 12, 27)),1,0)\n",
    "#........................................................................\n",
    "testdata['Super_Bowl'] = np.where((testdata['Date']==datetime(2010, 2, 12)) | (testdata['Date']==datetime(2011, 2, 11)) | (testdata['Date']==datetime(2012, 2, 10)) | (testdata['Date']==datetime(2013, 2, 8)),1,0)\n",
    "testdata['Labour_Day'] = np.where((testdata['Date']==datetime(2010, 9, 10)) | (testdata['Date']==datetime(2011, 9, 9)) | (testdata['Date']==datetime(2012, 9, 7)) | (testdata['Date']==datetime(2013, 9, 6)),1,0)\n",
    "testdata['Thanksgiving'] = np.where((testdata['Date']==datetime(2010, 11, 26)) | (testdata['Date']==datetime(2011, 11, 25)) | (testdata['Date']==datetime(2012, 11, 23)) | (testdata['Date']==datetime(2013, 11, 29)),1,0)\n",
    "testdata['Christmas'] = np.where((testdata['Date']==datetime(2010, 12, 31)) | (testdata['Date']==datetime(2011, 12, 30)) | (testdata['Date']==datetime(2012, 12, 28)) | (testdata['Date']==datetime(2013, 12, 27)),1,0)\n"
   ]
  },
  {
   "cell_type": "code",
   "execution_count": 241,
   "metadata": {},
   "outputs": [
    {
     "name": "stderr",
     "output_type": "stream",
     "text": [
      "<ipython-input-241-1df330510d98>:2: SettingWithCopyWarning: \n",
      "A value is trying to be set on a copy of a slice from a DataFrame.\n",
      "Try using .loc[row_indexer,col_indexer] = value instead\n",
      "\n",
      "See the caveats in the documentation: https://pandas.pydata.org/pandas-docs/stable/user_guide/indexing.html#returning-a-view-versus-a-copy\n",
      "  traindata['IsHoliday']=traindata['IsHoliday']|traindata['Super_Bowl']|traindata['Labour_Day']|traindata['Thanksgiving']|traindata['Christmas']\n",
      "<ipython-input-241-1df330510d98>:3: SettingWithCopyWarning: \n",
      "A value is trying to be set on a copy of a slice from a DataFrame.\n",
      "Try using .loc[row_indexer,col_indexer] = value instead\n",
      "\n",
      "See the caveats in the documentation: https://pandas.pydata.org/pandas-docs/stable/user_guide/indexing.html#returning-a-view-versus-a-copy\n",
      "  testdata['IsHoliday']=testdata['IsHoliday']|testdata['Super_Bowl']|testdata['Labour_Day']|testdata['Thanksgiving']|testdata['Christmas']\n"
     ]
    }
   ],
   "source": [
    "# Altering the isHoliday value depending on these new holidays...\n",
    "traindata['IsHoliday']=traindata['IsHoliday']|traindata['Super_Bowl']|traindata['Labour_Day']|traindata['Thanksgiving']|traindata['Christmas']\n",
    "testdata['IsHoliday']=testdata['IsHoliday']|testdata['Super_Bowl']|testdata['Labour_Day']|testdata['Thanksgiving']|testdata['Christmas']"
   ]
  },
  {
   "cell_type": "code",
   "execution_count": 242,
   "metadata": {},
   "outputs": [
    {
     "name": "stderr",
     "output_type": "stream",
     "text": [
      "C:\\Users\\LENOVO\\anaconda3\\lib\\site-packages\\pandas\\core\\frame.py:3990: SettingWithCopyWarning: \n",
      "A value is trying to be set on a copy of a slice from a DataFrame\n",
      "\n",
      "See the caveats in the documentation: https://pandas.pydata.org/pandas-docs/stable/user_guide/indexing.html#returning-a-view-versus-a-copy\n",
      "  return super().drop(\n"
     ]
    }
   ],
   "source": [
    "# Since we have Imputed IsHoliday according to Extra holidays..These extra holiday variable has redundant..\n",
    "# Droping the Extra holiday variables because its redundant..\n",
    "dp=['Super_Bowl','Labour_Day','Thanksgiving','Christmas']\n",
    "traindata.drop(dp,axis=1,inplace=True)\n",
    "testdata.drop(dp,axis=1,inplace=True)"
   ]
  },
  {
   "cell_type": "code",
   "execution_count": 243,
   "metadata": {},
   "outputs": [
    {
     "data": {
      "text/plain": [
       "<matplotlib.axes._subplots.AxesSubplot at 0x13e8ff85fa0>"
      ]
     },
     "execution_count": 243,
     "metadata": {},
     "output_type": "execute_result"
    },
    {
     "data": {
      "image/png": "[encoded data removed]",
      "text/plain": [
       "<Figure size 432x288 with 2 Axes>"
      ]
     },
     "metadata": {
      "needs_background": "light"
     },
     "output_type": "display_data"
    }
   ],
   "source": [
    "sns.heatmap(traindata.corr())"
   ]
  },
  {
   "cell_type": "code",
   "execution_count": 244,
   "metadata": {},
   "outputs": [
    {
     "name": "stdout",
     "output_type": "stream",
     "text": [
      "<class 'pandas.core.frame.DataFrame'>\n",
      "Int64Index: 421570 entries, 0 to 421569\n",
      "Data columns (total 20 columns):\n",
      " #   Column          Non-Null Count   Dtype         \n",
      "---  ------          --------------   -----         \n",
      " 0   Store           421570 non-null  int64         \n",
      " 1   Dept            421570 non-null  int64         \n",
      " 2   Date            421570 non-null  datetime64[ns]\n",
      " 3   IsHoliday       421570 non-null  int64         \n",
      " 4   Type            421570 non-null  int64         \n",
      " 5   Size            421570 non-null  int64         \n",
      " 6   Temperature     421570 non-null  float64       \n",
      " 7   Fuel_Price      421570 non-null  float64       \n",
      " 8   MarkDown1       421570 non-null  float64       \n",
      " 9   MarkDown2       421570 non-null  float64       \n",
      " 10  MarkDown3       421570 non-null  float64       \n",
      " 11  MarkDown4       421570 non-null  float64       \n",
      " 12  MarkDown5       421570 non-null  float64       \n",
      " 13  CPI             421570 non-null  float64       \n",
      " 14  Unemployment    421570 non-null  float64       \n",
      " 15  Weekly_Sales    421570 non-null  float64       \n",
      " 16  Date_dayofweek  421570 non-null  int64         \n",
      " 17  Date_month      421570 non-null  int64         \n",
      " 18  Date_year       421570 non-null  int64         \n",
      " 19  Date_day        421570 non-null  int64         \n",
      "dtypes: datetime64[ns](1), float64(10), int64(9)\n",
      "memory usage: 67.5 MB\n"
     ]
    }
   ],
   "source": [
    "traindata.info()"
   ]
  },
  {
   "cell_type": "code",
   "execution_count": 254,
   "metadata": {},
   "outputs": [
    {
     "data": {
      "text/plain": [
       "((421570, 18), (421570,), (115064, 18))"
      ]
     },
     "execution_count": 254,
     "metadata": {},
     "output_type": "execute_result"
    }
   ],
   "source": [
    "#### train X= Exery thing except Weekly_Sales\n",
    "train_X=traindata.drop(['Weekly_Sales','Date'], axis=1)\n",
    "##traindata_copy\n",
    "##traindata\n",
    "#### train Y= Only Weekly_Sales \n",
    "train_y=traindata['Weekly_Sales'] \n",
    "test_X=testdata.drop('Date',axis=1).copy()\n",
    "\n",
    "train_X.shape, train_y.shape, test_X.shape"
   ]
  },
  {
   "cell_type": "code",
   "execution_count": 248,
   "metadata": {},
   "outputs": [],
   "source": [
    "from sklearn.linear_model import LinearRegression\n",
    "from sklearn.ensemble import RandomForestRegressor\n",
    "from sklearn.tree import DecisionTreeRegressor"
   ]
  },
  {
   "cell_type": "markdown",
   "metadata": {},
   "source": [
    "### Linear Regression"
   ]
  },
  {
   "cell_type": "code",
   "execution_count": 177,
   "metadata": {},
   "outputs": [
    {
     "name": "stdout",
     "output_type": "stream",
     "text": [
      "scorbe:8.76 percent\n"
     ]
    }
   ],
   "source": [
    "## Methood 1..\n",
    "clf = LinearRegression()\n",
    "clf.fit(train_X, train_y)\n",
    "y_pred_linear=clf.predict(test_X)\n",
    "acc_linear=round( clf.score(train_X, train_y) * 100, 2)\n",
    "print ('scorbe:'+str(acc_linear) + ' percent')"
   ]
  },
  {
   "cell_type": "markdown",
   "metadata": {},
   "source": [
    "### Random Forest"
   ]
  },
  {
   "cell_type": "code",
   "execution_count": 257,
   "metadata": {},
   "outputs": [
    {
     "name": "stdout",
     "output_type": "stream",
     "text": [
      "Accuracy: 99 % \n",
      "\n"
     ]
    }
   ],
   "source": [
    "clf = RandomForestRegressor(n_estimators=100)\n",
    "clf.fit(train_X, train_y)\n",
    "y_pred_rf=clf.predict(test_X)\n",
    "acc_rf= round(clf.score(train_X, train_y) * 100, 2)\n",
    "print (\"Accuracy: %i %% \\n\"%acc_rf)"
   ]
  },
  {
   "cell_type": "markdown",
   "metadata": {},
   "source": [
    "### Decision Tree"
   ]
  },
  {
   "cell_type": "code",
   "execution_count": 255,
   "metadata": {},
   "outputs": [
    {
     "name": "stdout",
     "output_type": "stream",
     "text": [
      "100.0 percent\n"
     ]
    }
   ],
   "source": [
    "clf=DecisionTreeRegressor()\n",
    "clf.fit(train_X, train_y)\n",
    "y_pred_dt= clf.predict(test_X)\n",
    "acc_dt = round( clf.score(train_X, train_y) * 100, 2)\n",
    "print (str(acc_dt) + ' percent')"
   ]
  },
  {
   "cell_type": "markdown",
   "metadata": {},
   "source": [
    "### Comparing Models"
   ]
  },
  {
   "cell_type": "code",
   "execution_count": 186,
   "metadata": {},
   "outputs": [
    {
     "data": {
      "text/html": [
       "<div>\n",
       "<style scoped>\n",
       "    .dataframe tbody tr th:only-of-type {\n",
       "        vertical-align: middle;\n",
       "    }\n",
       "\n",
       "    .dataframe tbody tr th {\n",
       "        vertical-align: top;\n",
       "    }\n",
       "\n",
       "    .dataframe thead th {\n",
       "        text-align: right;\n",
       "    }\n",
       "</style>\n",
       "<table border=\"1\" class=\"dataframe\">\n",
       "  <thead>\n",
       "    <tr style=\"text-align: right;\">\n",
       "      <th></th>\n",
       "      <th>Model</th>\n",
       "      <th>Score</th>\n",
       "    </tr>\n",
       "  </thead>\n",
       "  <tbody>\n",
       "    <tr>\n",
       "      <th>2</th>\n",
       "      <td>Decision Tree</td>\n",
       "      <td>100.00</td>\n",
       "    </tr>\n",
       "    <tr>\n",
       "      <th>1</th>\n",
       "      <td>Random Forest</td>\n",
       "      <td>99.68</td>\n",
       "    </tr>\n",
       "    <tr>\n",
       "      <th>0</th>\n",
       "      <td>Linear Regression</td>\n",
       "      <td>8.76</td>\n",
       "    </tr>\n",
       "  </tbody>\n",
       "</table>\n",
       "</div>"
      ],
      "text/plain": [
       "               Model   Score\n",
       "2      Decision Tree  100.00\n",
       "1      Random Forest   99.68\n",
       "0  Linear Regression    8.76"
      ]
     },
     "execution_count": 186,
     "metadata": {},
     "output_type": "execute_result"
    }
   ],
   "source": [
    "models = pd.DataFrame({\n",
    "    'Model': ['Linear Regression','Random Forest','Decision Tree'],\n",
    "    \n",
    "    'Score': [acc_linear, acc_rf,acc_dt]\n",
    "    })\n",
    "\n",
    "models.sort_values(by='Score', ascending=False)"
   ]
  },
  {
   "cell_type": "markdown",
   "metadata": {},
   "source": [
    "### Predicting Sales value for test data based on highest score model."
   ]
  },
  {
   "cell_type": "code",
   "execution_count": 258,
   "metadata": {},
   "outputs": [],
   "source": [
    "# Prediction value using Random Forest model..\n",
    "submission = pd.DataFrame({\n",
    "        \"Id\": testdata.Store.astype(str)+'_'+testdata.Dept.astype(str)+'_'+testdata.Date.astype(str),\n",
    "        \"Weekly_Sales\": y_pred_rf\n",
    "    })\n",
    "\n",
    "submission.to_csv('weekly_sales predicted.csv', index=False)\n",
    "#submission.to_excel(writer,'Weekly_sales Pred',index=False)"
   ]
  },
  {
   "cell_type": "code",
   "execution_count": null,
   "metadata": {},
   "outputs": [],
   "source": []
  }
 ],
 "metadata": {
  "kernelspec": {
   "display_name": "Python 3",
   "language": "python",
   "name": "python3"
  },
  "language_info": {
   "codemirror_mode": {
    "name": "ipython",
    "version": 3
   },
   "file_extension": ".py",
   "mimetype": "text/x-python",
   "name": "python",
   "nbconvert_exporter": "python",
   "pygments_lexer": "ipython3",
   "version": "3.8.3"
  }
 },
 "nbformat": 4,
 "nbformat_minor": 4
}
